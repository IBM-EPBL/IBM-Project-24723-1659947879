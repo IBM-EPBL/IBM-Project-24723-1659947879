{
 "cells": [
  {
   "cell_type": "code",
   "execution_count": 1,
   "id": "3ac4b2dc",
   "metadata": {},
   "outputs": [],
   "source": [
    "import pandas as pd\n",
    "import numpy as np\n",
    "import matplotlib.pyplot as plt\n",
    "%matplotlib inline"
   ]
  },
  {
   "cell_type": "code",
   "execution_count": 2,
   "id": "265acb5a",
   "metadata": {},
   "outputs": [
    {
     "data": {
      "text/html": [
       "<div>\n",
       "<style scoped>\n",
       "    .dataframe tbody tr th:only-of-type {\n",
       "        vertical-align: middle;\n",
       "    }\n",
       "\n",
       "    .dataframe tbody tr th {\n",
       "        vertical-align: top;\n",
       "    }\n",
       "\n",
       "    .dataframe thead th {\n",
       "        text-align: right;\n",
       "    }\n",
       "</style>\n",
       "<table border=\"1\" class=\"dataframe\">\n",
       "  <thead>\n",
       "    <tr style=\"text-align: right;\">\n",
       "      <th></th>\n",
       "      <th>Date</th>\n",
       "      <th>Open</th>\n",
       "      <th>High</th>\n",
       "      <th>Low</th>\n",
       "      <th>Close</th>\n",
       "      <th>Adj Close</th>\n",
       "      <th>Volume</th>\n",
       "    </tr>\n",
       "  </thead>\n",
       "  <tbody>\n",
       "    <tr>\n",
       "      <th>0</th>\n",
       "      <td>Jul 01, 2022</td>\n",
       "      <td>106.01</td>\n",
       "      <td>109.34</td>\n",
       "      <td>104.56</td>\n",
       "      <td>108.43</td>\n",
       "      <td>108.43</td>\n",
       "      <td>3,05,338</td>\n",
       "    </tr>\n",
       "    <tr>\n",
       "      <th>1</th>\n",
       "      <td>Jun 30, 2022</td>\n",
       "      <td>109.70</td>\n",
       "      <td>110.45</td>\n",
       "      <td>105.10</td>\n",
       "      <td>105.76</td>\n",
       "      <td>105.76</td>\n",
       "      <td>3,62,890</td>\n",
       "    </tr>\n",
       "    <tr>\n",
       "      <th>2</th>\n",
       "      <td>Jun 29, 2022</td>\n",
       "      <td>111.86</td>\n",
       "      <td>114.05</td>\n",
       "      <td>109.22</td>\n",
       "      <td>109.78</td>\n",
       "      <td>109.78</td>\n",
       "      <td>3,22,060</td>\n",
       "    </tr>\n",
       "    <tr>\n",
       "      <th>3</th>\n",
       "      <td>Jun 28, 2022</td>\n",
       "      <td>110.18</td>\n",
       "      <td>112.22</td>\n",
       "      <td>109.62</td>\n",
       "      <td>111.76</td>\n",
       "      <td>111.76</td>\n",
       "      <td>3,06,748</td>\n",
       "    </tr>\n",
       "    <tr>\n",
       "      <th>4</th>\n",
       "      <td>Jun 27, 2022</td>\n",
       "      <td>107.22</td>\n",
       "      <td>110.54</td>\n",
       "      <td>105.60</td>\n",
       "      <td>109.57</td>\n",
       "      <td>109.57</td>\n",
       "      <td>2,82,914</td>\n",
       "    </tr>\n",
       "  </tbody>\n",
       "</table>\n",
       "</div>"
      ],
      "text/plain": [
       "           Date    Open    High     Low   Close  Adj Close    Volume\n",
       "0  Jul 01, 2022  106.01  109.34  104.56  108.43     108.43  3,05,338\n",
       "1  Jun 30, 2022  109.70  110.45  105.10  105.76     105.76  3,62,890\n",
       "2  Jun 29, 2022  111.86  114.05  109.22  109.78     109.78  3,22,060\n",
       "3  Jun 28, 2022  110.18  112.22  109.62  111.76     111.76  3,06,748\n",
       "4  Jun 27, 2022  107.22  110.54  105.60  109.57     109.57  2,82,914"
      ]
     },
     "execution_count": 2,
     "metadata": {},
     "output_type": "execute_result"
    }
   ],
   "source": [
    "oil = pd.read_csv('CrudeOil.csv')\n",
    "oil.head()"
   ]
  },
  {
   "cell_type": "code",
   "execution_count": 4,
   "id": "4371a141",
   "metadata": {},
   "outputs": [
    {
     "data": {
      "text/plain": [
       "Date         True\n",
       "Open         True\n",
       "High         True\n",
       "Low          True\n",
       "Close        True\n",
       "Adj Close    True\n",
       "Volume       True\n",
       "dtype: bool"
      ]
     },
     "execution_count": 4,
     "metadata": {},
     "output_type": "execute_result"
    }
   ],
   "source": [
    "oil.isnull().any()"
   ]
  },
  {
   "cell_type": "code",
   "execution_count": 6,
   "id": "255b6726",
   "metadata": {},
   "outputs": [
    {
     "data": {
      "text/plain": [
       "Date         3141\n",
       "Open         3141\n",
       "High         3141\n",
       "Low          3141\n",
       "Close        3141\n",
       "Adj Close    3141\n",
       "Volume       3141\n",
       "dtype: int64"
      ]
     },
     "execution_count": 6,
     "metadata": {},
     "output_type": "execute_result"
    }
   ],
   "source": [
    "oil.isnull().sum()"
   ]
  },
  {
   "cell_type": "code",
   "execution_count": 7,
   "id": "5f9428b8",
   "metadata": {},
   "outputs": [],
   "source": [
    "oil.dropna(axis=0,inplace=True)"
   ]
  },
  {
   "cell_type": "code",
   "execution_count": 8,
   "id": "391b56c8",
   "metadata": {},
   "outputs": [
    {
     "data": {
      "text/plain": [
       "Date         0\n",
       "Open         0\n",
       "High         0\n",
       "Low          0\n",
       "Close        0\n",
       "Adj Close    0\n",
       "Volume       0\n",
       "dtype: int64"
      ]
     },
     "execution_count": 8,
     "metadata": {},
     "output_type": "execute_result"
    }
   ],
   "source": [
    "oil.isnull().sum()"
   ]
  },
  {
   "cell_type": "code",
   "execution_count": 11,
   "id": "bb455882",
   "metadata": {},
   "outputs": [
    {
     "data": {
      "text/plain": [
       "0       108.43\n",
       "1       105.76\n",
       "2       109.78\n",
       "3       111.76\n",
       "4       109.57\n",
       "         ...  \n",
       "1883     48.79\n",
       "1884     48.65\n",
       "1885     47.93\n",
       "1886     50.04\n",
       "1887     52.69\n",
       "Name: Close, Length: 1888, dtype: float64"
      ]
     },
     "execution_count": 11,
     "metadata": {},
     "output_type": "execute_result"
    }
   ],
   "source": [
    "data_oil=oil.reset_index()['Close']\n",
    "data_oil"
   ]
  },
  {
   "cell_type": "code",
   "execution_count": 12,
   "id": "a41749ac",
   "metadata": {},
   "outputs": [],
   "source": [
    "from sklearn.preprocessing import MinMaxScaler\n",
    "scaler=MinMaxScaler(feature_range=(0,1))\n",
    "data_oil=scaler.fit_transform(np.array(data_oil).reshape(-1,1))"
   ]
  },
  {
   "cell_type": "code",
   "execution_count": 13,
   "id": "c7d83b30",
   "metadata": {},
   "outputs": [
    {
     "data": {
      "text/plain": [
       "array([[0.90534928],\n",
       "       [0.88879936],\n",
       "       [0.91371723],\n",
       "       ...,\n",
       "       [0.53034154],\n",
       "       [0.54342032],\n",
       "       [0.55984628]])"
      ]
     },
     "execution_count": 13,
     "metadata": {},
     "output_type": "execute_result"
    }
   ],
   "source": [
    "data_oil"
   ]
  },
  {
   "cell_type": "code",
   "execution_count": null,
   "id": "1639c5d6",
   "metadata": {},
   "outputs": [],
   "source": []
  }
 ],
 "metadata": {
  "kernelspec": {
   "display_name": "Python 3 (ipykernel)",
   "language": "python",
   "name": "python3"
  },
  "language_info": {
   "codemirror_mode": {
    "name": "ipython",
    "version": 3
   },
   "file_extension": ".py",
   "mimetype": "text/x-python",
   "name": "python",
   "nbconvert_exporter": "python",
   "pygments_lexer": "ipython3",
   "version": "3.9.7"
  }
 },
 "nbformat": 4,
 "nbformat_minor": 5
}
