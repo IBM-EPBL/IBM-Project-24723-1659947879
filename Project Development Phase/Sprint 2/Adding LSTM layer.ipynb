{
 "cells": [
  {
   "cell_type": "code",
   "execution_count": 1,
   "id": "84edf589",
   "metadata": {},
   "outputs": [],
   "source": [
    "import numpy as np \n",
    "import pandas as pd \n",
    "import matplotlib.pyplot as plt \n",
    "\n",
    "from sklearn.preprocessing import MinMaxScaler\n",
    "from keras.models import Sequential\n",
    "from keras.layers import Dense,LSTM,Dropout"
   ]
  },
  {
   "cell_type": "code",
   "execution_count": 2,
   "id": "2729287d",
   "metadata": {},
   "outputs": [
    {
     "data": {
      "text/html": [
       "<div>\n",
       "<style scoped>\n",
       "    .dataframe tbody tr th:only-of-type {\n",
       "        vertical-align: middle;\n",
       "    }\n",
       "\n",
       "    .dataframe tbody tr th {\n",
       "        vertical-align: top;\n",
       "    }\n",
       "\n",
       "    .dataframe thead th {\n",
       "        text-align: right;\n",
       "    }\n",
       "</style>\n",
       "<table border=\"1\" class=\"dataframe\">\n",
       "  <thead>\n",
       "    <tr style=\"text-align: right;\">\n",
       "      <th></th>\n",
       "      <th>Date</th>\n",
       "      <th>Open</th>\n",
       "      <th>High</th>\n",
       "      <th>Low</th>\n",
       "      <th>Close</th>\n",
       "      <th>Adj Close</th>\n",
       "      <th>Volume</th>\n",
       "    </tr>\n",
       "  </thead>\n",
       "  <tbody>\n",
       "    <tr>\n",
       "      <th>0</th>\n",
       "      <td>Mar 24, 2022</td>\n",
       "      <td>114.47</td>\n",
       "      <td>116.64</td>\n",
       "      <td>110.61</td>\n",
       "      <td>112.34</td>\n",
       "      <td>112.34</td>\n",
       "      <td>3,07,238</td>\n",
       "    </tr>\n",
       "    <tr>\n",
       "      <th>1</th>\n",
       "      <td>Mar 23, 2022</td>\n",
       "      <td>108.85</td>\n",
       "      <td>115.40</td>\n",
       "      <td>108.38</td>\n",
       "      <td>114.93</td>\n",
       "      <td>114.93</td>\n",
       "      <td>2,89,182</td>\n",
       "    </tr>\n",
       "    <tr>\n",
       "      <th>2</th>\n",
       "      <td>Mar 22, 2022</td>\n",
       "      <td>112.90</td>\n",
       "      <td>115.01</td>\n",
       "      <td>109.30</td>\n",
       "      <td>111.76</td>\n",
       "      <td>111.76</td>\n",
       "      <td>3,18,629</td>\n",
       "    </tr>\n",
       "    <tr>\n",
       "      <th>3</th>\n",
       "      <td>Mar 21, 2022</td>\n",
       "      <td>105.13</td>\n",
       "      <td>112.69</td>\n",
       "      <td>104.08</td>\n",
       "      <td>112.12</td>\n",
       "      <td>112.12</td>\n",
       "      <td>77,217</td>\n",
       "    </tr>\n",
       "    <tr>\n",
       "      <th>4</th>\n",
       "      <td>Mar 18, 2022</td>\n",
       "      <td>103.62</td>\n",
       "      <td>106.28</td>\n",
       "      <td>102.30</td>\n",
       "      <td>104.70</td>\n",
       "      <td>104.70</td>\n",
       "      <td>74,247</td>\n",
       "    </tr>\n",
       "  </tbody>\n",
       "</table>\n",
       "</div>"
      ],
      "text/plain": [
       "           Date    Open    High     Low   Close  Adj Close    Volume\n",
       "0  Mar 24, 2022  114.47  116.64  110.61  112.34     112.34  3,07,238\n",
       "1  Mar 23, 2022  108.85  115.40  108.38  114.93     114.93  2,89,182\n",
       "2  Mar 22, 2022  112.90  115.01  109.30  111.76     111.76  3,18,629\n",
       "3  Mar 21, 2022  105.13  112.69  104.08  112.12     112.12    77,217\n",
       "4  Mar 18, 2022  103.62  106.28  102.30  104.70     104.70    74,247"
      ]
     },
     "execution_count": 2,
     "metadata": {},
     "output_type": "execute_result"
    }
   ],
   "source": [
    "data = pd.read_csv('COPP TRAIN.csv')\n",
    "data.head()"
   ]
  },
  {
   "cell_type": "code",
   "execution_count": 3,
   "id": "18a7a672",
   "metadata": {},
   "outputs": [
    {
     "name": "stdout",
     "output_type": "stream",
     "text": [
      "<class 'pandas.core.frame.DataFrame'>\n",
      "RangeIndex: 165 entries, 0 to 164\n",
      "Data columns (total 7 columns):\n",
      " #   Column     Non-Null Count  Dtype  \n",
      "---  ------     --------------  -----  \n",
      " 0   Date       165 non-null    object \n",
      " 1   Open       165 non-null    float64\n",
      " 2   High       165 non-null    float64\n",
      " 3   Low        165 non-null    float64\n",
      " 4   Close      165 non-null    float64\n",
      " 5   Adj Close  165 non-null    float64\n",
      " 6   Volume     165 non-null    object \n",
      "dtypes: float64(5), object(2)\n",
      "memory usage: 9.1+ KB\n"
     ]
    }
   ],
   "source": [
    "data.info()"
   ]
  },
  {
   "cell_type": "code",
   "execution_count": 4,
   "id": "20a70a0d",
   "metadata": {},
   "outputs": [],
   "source": [
    "data[\"Close\"]=pd.to_numeric(data.Close,errors='coerce')\n",
    "data = data.dropna()\n",
    "trainData = data.iloc[:,4:5].values"
   ]
  },
  {
   "cell_type": "code",
   "execution_count": 5,
   "id": "85a2e02c",
   "metadata": {},
   "outputs": [
    {
     "name": "stdout",
     "output_type": "stream",
     "text": [
      "<class 'pandas.core.frame.DataFrame'>\n",
      "Int64Index: 165 entries, 0 to 164\n",
      "Data columns (total 7 columns):\n",
      " #   Column     Non-Null Count  Dtype  \n",
      "---  ------     --------------  -----  \n",
      " 0   Date       165 non-null    object \n",
      " 1   Open       165 non-null    float64\n",
      " 2   High       165 non-null    float64\n",
      " 3   Low        165 non-null    float64\n",
      " 4   Close      165 non-null    float64\n",
      " 5   Adj Close  165 non-null    float64\n",
      " 6   Volume     165 non-null    object \n",
      "dtypes: float64(5), object(2)\n",
      "memory usage: 10.3+ KB\n"
     ]
    }
   ],
   "source": [
    "data.info()"
   ]
  },
  {
   "cell_type": "code",
   "execution_count": 6,
   "id": "50e93bb2",
   "metadata": {},
   "outputs": [
    {
     "data": {
      "text/plain": [
       "(165, 1)"
      ]
     },
     "execution_count": 6,
     "metadata": {},
     "output_type": "execute_result"
    }
   ],
   "source": [
    "sc = MinMaxScaler(feature_range=(0,1))\n",
    "trainData = sc.fit_transform(trainData)\n",
    "trainData.shape"
   ]
  },
  {
   "cell_type": "code",
   "execution_count": 7,
   "id": "dad04f26",
   "metadata": {},
   "outputs": [],
   "source": [
    "X_train = []\n",
    "y_train = []\n",
    "\n",
    "for i in range (60,165): \n",
    "    X_train.append(trainData[i-60:i,0]) \n",
    "    y_train.append(trainData[i,0])\n",
    "\n",
    "X_train,y_train = np.array(X_train),np.array(y_train)"
   ]
  },
  {
   "cell_type": "code",
   "execution_count": 8,
   "id": "4cac2ad2",
   "metadata": {},
   "outputs": [
    {
     "data": {
      "text/plain": [
       "(105, 60, 1)"
      ]
     },
     "execution_count": 8,
     "metadata": {},
     "output_type": "execute_result"
    }
   ],
   "source": [
    "X_train = np.reshape(X_train,(X_train.shape[0],X_train.shape[1],1)) #adding the batch_size axis\n",
    "X_train.shape"
   ]
  },
  {
   "cell_type": "code",
   "execution_count": 9,
   "id": "f2b8b2f6",
   "metadata": {},
   "outputs": [],
   "source": [
    "model = Sequential()\n",
    "\n",
    "model.add(LSTM(units=100, return_sequences = True, input_shape =(X_train.shape[1],1)))\n",
    "model.add(Dropout(0.2))\n",
    "\n",
    "model.add(LSTM(units=100, return_sequences = True))\n",
    "model.add(Dropout(0.2))\n",
    "\n",
    "model.add(LSTM(units=100, return_sequences = True))\n",
    "model.add(Dropout(0.2))\n",
    "\n",
    "model.add(LSTM(units=100, return_sequences = False))\n",
    "model.add(Dropout(0.2))\n",
    "\n",
    "model.add(Dense(units =1))\n",
    "model.compile(optimizer='adam',loss=\"mean_squared_error\")"
   ]
  },
  {
   "cell_type": "code",
   "execution_count": 10,
   "id": "a87dd0bc",
   "metadata": {},
   "outputs": [
    {
     "name": "stdout",
     "output_type": "stream",
     "text": [
      "Epoch 1/70\n",
      "4/4 - 6s - loss: 0.0248 - 6s/epoch - 1s/step\n",
      "Epoch 2/70\n",
      "4/4 - 1s - loss: 0.0108 - 543ms/epoch - 136ms/step\n",
      "Epoch 3/70\n",
      "4/4 - 1s - loss: 0.0102 - 571ms/epoch - 143ms/step\n",
      "Epoch 4/70\n",
      "4/4 - 1s - loss: 0.0093 - 571ms/epoch - 143ms/step\n",
      "Epoch 5/70\n",
      "4/4 - 1s - loss: 0.0072 - 587ms/epoch - 147ms/step\n",
      "Epoch 6/70\n",
      "4/4 - 1s - loss: 0.0081 - 573ms/epoch - 143ms/step\n",
      "Epoch 7/70\n",
      "4/4 - 1s - loss: 0.0067 - 570ms/epoch - 142ms/step\n",
      "Epoch 8/70\n",
      "4/4 - 1s - loss: 0.0063 - 589ms/epoch - 147ms/step\n",
      "Epoch 9/70\n",
      "4/4 - 1s - loss: 0.0057 - 593ms/epoch - 148ms/step\n",
      "Epoch 10/70\n",
      "4/4 - 1s - loss: 0.0043 - 604ms/epoch - 151ms/step\n",
      "Epoch 11/70\n",
      "4/4 - 1s - loss: 0.0039 - 617ms/epoch - 154ms/step\n",
      "Epoch 12/70\n",
      "4/4 - 1s - loss: 0.0032 - 569ms/epoch - 142ms/step\n",
      "Epoch 13/70\n",
      "4/4 - 1s - loss: 0.0030 - 556ms/epoch - 139ms/step\n",
      "Epoch 14/70\n",
      "4/4 - 1s - loss: 0.0031 - 582ms/epoch - 146ms/step\n",
      "Epoch 15/70\n",
      "4/4 - 1s - loss: 0.0031 - 560ms/epoch - 140ms/step\n",
      "Epoch 16/70\n",
      "4/4 - 1s - loss: 0.0029 - 548ms/epoch - 137ms/step\n",
      "Epoch 17/70\n",
      "4/4 - 1s - loss: 0.0025 - 553ms/epoch - 138ms/step\n",
      "Epoch 18/70\n",
      "4/4 - 1s - loss: 0.0024 - 582ms/epoch - 145ms/step\n",
      "Epoch 19/70\n",
      "4/4 - 1s - loss: 0.0029 - 556ms/epoch - 139ms/step\n",
      "Epoch 20/70\n",
      "4/4 - 1s - loss: 0.0030 - 550ms/epoch - 137ms/step\n",
      "Epoch 21/70\n",
      "4/4 - 1s - loss: 0.0028 - 549ms/epoch - 137ms/step\n",
      "Epoch 22/70\n",
      "4/4 - 1s - loss: 0.0030 - 560ms/epoch - 140ms/step\n",
      "Epoch 23/70\n",
      "4/4 - 1s - loss: 0.0031 - 574ms/epoch - 144ms/step\n",
      "Epoch 24/70\n",
      "4/4 - 1s - loss: 0.0032 - 561ms/epoch - 140ms/step\n",
      "Epoch 25/70\n",
      "4/4 - 1s - loss: 0.0024 - 550ms/epoch - 137ms/step\n",
      "Epoch 26/70\n",
      "4/4 - 1s - loss: 0.0025 - 572ms/epoch - 143ms/step\n",
      "Epoch 27/70\n",
      "4/4 - 1s - loss: 0.0027 - 568ms/epoch - 142ms/step\n",
      "Epoch 28/70\n",
      "4/4 - 1s - loss: 0.0027 - 572ms/epoch - 143ms/step\n",
      "Epoch 29/70\n",
      "4/4 - 1s - loss: 0.0026 - 546ms/epoch - 137ms/step\n",
      "Epoch 30/70\n",
      "4/4 - 1s - loss: 0.0025 - 552ms/epoch - 138ms/step\n",
      "Epoch 31/70\n",
      "4/4 - 1s - loss: 0.0025 - 554ms/epoch - 138ms/step\n",
      "Epoch 32/70\n",
      "4/4 - 1s - loss: 0.0025 - 543ms/epoch - 136ms/step\n",
      "Epoch 33/70\n",
      "4/4 - 1s - loss: 0.0025 - 548ms/epoch - 137ms/step\n",
      "Epoch 34/70\n",
      "4/4 - 1s - loss: 0.0022 - 558ms/epoch - 140ms/step\n",
      "Epoch 35/70\n",
      "4/4 - 1s - loss: 0.0025 - 551ms/epoch - 138ms/step\n",
      "Epoch 36/70\n",
      "4/4 - 1s - loss: 0.0025 - 550ms/epoch - 137ms/step\n",
      "Epoch 37/70\n",
      "4/4 - 1s - loss: 0.0025 - 545ms/epoch - 136ms/step\n",
      "Epoch 38/70\n",
      "4/4 - 1s - loss: 0.0024 - 555ms/epoch - 139ms/step\n",
      "Epoch 39/70\n",
      "4/4 - 1s - loss: 0.0023 - 541ms/epoch - 135ms/step\n",
      "Epoch 40/70\n",
      "4/4 - 1s - loss: 0.0022 - 542ms/epoch - 135ms/step\n",
      "Epoch 41/70\n",
      "4/4 - 1s - loss: 0.0024 - 546ms/epoch - 137ms/step\n",
      "Epoch 42/70\n",
      "4/4 - 1s - loss: 0.0021 - 574ms/epoch - 143ms/step\n",
      "Epoch 43/70\n",
      "4/4 - 1s - loss: 0.0021 - 554ms/epoch - 139ms/step\n",
      "Epoch 44/70\n",
      "4/4 - 1s - loss: 0.0022 - 559ms/epoch - 140ms/step\n",
      "Epoch 45/70\n",
      "4/4 - 1s - loss: 0.0027 - 557ms/epoch - 139ms/step\n",
      "Epoch 46/70\n",
      "4/4 - 1s - loss: 0.0020 - 556ms/epoch - 139ms/step\n",
      "Epoch 47/70\n",
      "4/4 - 1s - loss: 0.0025 - 559ms/epoch - 140ms/step\n",
      "Epoch 48/70\n",
      "4/4 - 1s - loss: 0.0025 - 561ms/epoch - 140ms/step\n",
      "Epoch 49/70\n",
      "4/4 - 1s - loss: 0.0026 - 560ms/epoch - 140ms/step\n",
      "Epoch 50/70\n",
      "4/4 - 1s - loss: 0.0022 - 563ms/epoch - 141ms/step\n",
      "Epoch 51/70\n",
      "4/4 - 1s - loss: 0.0024 - 562ms/epoch - 141ms/step\n",
      "Epoch 52/70\n",
      "4/4 - 1s - loss: 0.0022 - 558ms/epoch - 139ms/step\n",
      "Epoch 53/70\n",
      "4/4 - 1s - loss: 0.0024 - 551ms/epoch - 138ms/step\n",
      "Epoch 54/70\n",
      "4/4 - 1s - loss: 0.0022 - 553ms/epoch - 138ms/step\n",
      "Epoch 55/70\n",
      "4/4 - 1s - loss: 0.0023 - 558ms/epoch - 140ms/step\n",
      "Epoch 56/70\n",
      "4/4 - 1s - loss: 0.0022 - 578ms/epoch - 144ms/step\n",
      "Epoch 57/70\n",
      "4/4 - 1s - loss: 0.0020 - 553ms/epoch - 138ms/step\n",
      "Epoch 58/70\n",
      "4/4 - 1s - loss: 0.0021 - 547ms/epoch - 137ms/step\n",
      "Epoch 59/70\n",
      "4/4 - 1s - loss: 0.0023 - 556ms/epoch - 139ms/step\n",
      "Epoch 60/70\n",
      "4/4 - 1s - loss: 0.0020 - 552ms/epoch - 138ms/step\n",
      "Epoch 61/70\n",
      "4/4 - 1s - loss: 0.0024 - 553ms/epoch - 138ms/step\n",
      "Epoch 62/70\n",
      "4/4 - 1s - loss: 0.0021 - 568ms/epoch - 142ms/step\n",
      "Epoch 63/70\n",
      "4/4 - 1s - loss: 0.0020 - 554ms/epoch - 138ms/step\n",
      "Epoch 64/70\n",
      "4/4 - 1s - loss: 0.0023 - 549ms/epoch - 137ms/step\n",
      "Epoch 65/70\n",
      "4/4 - 1s - loss: 0.0020 - 544ms/epoch - 136ms/step\n",
      "Epoch 66/70\n",
      "4/4 - 1s - loss: 0.0022 - 555ms/epoch - 139ms/step\n",
      "Epoch 67/70\n",
      "4/4 - 1s - loss: 0.0023 - 547ms/epoch - 137ms/step\n",
      "Epoch 68/70\n",
      "4/4 - 1s - loss: 0.0023 - 555ms/epoch - 139ms/step\n",
      "Epoch 69/70\n",
      "4/4 - 1s - loss: 0.0021 - 550ms/epoch - 137ms/step\n",
      "Epoch 70/70\n",
      "4/4 - 1s - loss: 0.0022 - 548ms/epoch - 137ms/step\n"
     ]
    }
   ],
   "source": [
    "hist = model.fit(X_train, y_train, epochs = 70, batch_size = 32, verbose=2)"
   ]
  },
  {
   "cell_type": "code",
   "execution_count": 11,
   "id": "0d1be164",
   "metadata": {},
   "outputs": [
    {
     "data": {
      "image/png": "[encoded data removed]",
      "text/plain": [
       "<Figure size 432x288 with 1 Axes>"
      ]
     },
     "metadata": {
      "needs_background": "light"
     },
     "output_type": "display_data"
    }
   ],
   "source": [
    "plt.plot(hist.history['loss'])\n",
    "plt.title('Training model loss')\n",
    "plt.ylabel('loss')\n",
    "plt.xlabel('epoch')\n",
    "plt.legend(['train'], loc='upper left')\n",
    "plt.show()"
   ]
  },
  {
   "cell_type": "code",
   "execution_count": 12,
   "id": "f36d034d",
   "metadata": {},
   "outputs": [
    {
     "data": {
      "text/plain": [
       "(11, 60, 1)"
      ]
     },
     "execution_count": 12,
     "metadata": {},
     "output_type": "execute_result"
    }
   ],
   "source": [
    "testData = pd.read_csv('COPP TEST.csv')\n",
    "\n",
    "testData[\"Close\"]=pd.to_numeric(testData.Close,errors='coerce')\n",
    "testData = testData.dropna()\n",
    "testData = testData.iloc[:,4:5]\n",
    "y_test = testData.iloc[60:,0:].values \n",
    "\n",
    "#input array for the model\n",
    "inputClosing = testData.iloc[:,0:].values \n",
    "inputClosing_scaled = sc.transform(inputClosing)\n",
    "inputClosing_scaled.shape\n",
    "X_test = []\n",
    "length = len(testData)\n",
    "timestep = 60\n",
    "\n",
    "for i in range(timestep,length):  \n",
    "    X_test.append(inputClosing_scaled[i-timestep:i,0])\n",
    "X_test = np.array(X_test)\n",
    "X_test = np.reshape(X_test,(X_test.shape[0],X_test.shape[1],1))\n",
    "X_test.shape"
   ]
  },
  {
   "cell_type": "code",
   "execution_count": 13,
   "id": "850d04d4",
   "metadata": {},
   "outputs": [
    {
     "name": "stdout",
     "output_type": "stream",
     "text": [
      "1/1 [==============================] - 1s 1s/step\n"
     ]
    },
    {
     "data": {
      "text/plain": [
       "array([[0.4081177 ],\n",
       "       [0.40449452],\n",
       "       [0.39947373],\n",
       "       [0.39466447],\n",
       "       [0.39078733],\n",
       "       [0.3882322 ],\n",
       "       [0.3882421 ],\n",
       "       [0.39119312],\n",
       "       [0.3970106 ],\n",
       "       [0.4064731 ],\n",
       "       [0.41342375]], dtype=float32)"
      ]
     },
     "execution_count": 13,
     "metadata": {},
     "output_type": "execute_result"
    }
   ],
   "source": [
    "y_pred = model.predict(X_test)\n",
    "y_pred"
   ]
  },
  {
   "cell_type": "code",
   "execution_count": 14,
   "id": "73fbed19",
   "metadata": {},
   "outputs": [],
   "source": [
    "predicted_price = sc.inverse_transform(y_pred)"
   ]
  },
  {
   "cell_type": "code",
   "execution_count": 15,
   "id": "3c4668bd",
   "metadata": {},
   "outputs": [
    {
     "data": {
      "image/png": "[encoded data removed]",
      "text/plain": [
       "<Figure size 432x288 with 1 Axes>"
      ]
     },
     "metadata": {
      "needs_background": "light"
     },
     "output_type": "display_data"
    }
   ],
   "source": [
    "plt.plot(predicted_price, color = 'green', label = 'Predicted crude oil Price')\n",
    "plt.title('Crude Oil price prediction')\n",
    "plt.xlabel('Time')\n",
    "plt.ylabel('Price')\n",
    "plt.legend()\n",
    "plt.show()"
   ]
  },
  {
   "cell_type": "code",
   "execution_count": 16,
   "id": "e882d76d",
   "metadata": {},
   "outputs": [
    {
     "name": "stdout",
     "output_type": "stream",
     "text": [
      "[[87.37026 ]\n",
      " [87.14787 ]\n",
      " [86.8397  ]\n",
      " [86.5445  ]\n",
      " [86.306526]\n",
      " [86.1497  ]\n",
      " [86.15031 ]\n",
      " [86.331436]\n",
      " [86.68851 ]\n",
      " [87.26932 ]\n",
      " [87.69595 ]]\n"
     ]
    }
   ],
   "source": [
    "print(predicted_price)"
   ]
  },
  {
   "cell_type": "code",
   "execution_count": null,
   "id": "3f613d39",
   "metadata": {},
   "outputs": [],
   "source": []
  }
 ],
 "metadata": {
  "kernelspec": {
   "display_name": "Python 3 (ipykernel)",
   "language": "python",
   "name": "python3"
  },
  "language_info": {
   "codemirror_mode": {
    "name": "ipython",
    "version": 3
   },
   "file_extension": ".py",
   "mimetype": "text/x-python",
   "name": "python",
   "nbconvert_exporter": "python",
   "pygments_lexer": "ipython3",
   "version": "3.9.7"
  }
 },
 "nbformat": 4,
 "nbformat_minor": 5
}
